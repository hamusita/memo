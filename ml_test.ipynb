{
  "nbformat": 4,
  "nbformat_minor": 0,
  "metadata": {
    "colab": {
      "name": "ml_test.ipynb",
      "provenance": [],
      "authorship_tag": "ABX9TyM+Uws1wSDw8iAARk7x/VcE",
      "include_colab_link": true
    },
    "kernelspec": {
      "name": "python3",
      "display_name": "Python 3"
    },
    "language_info": {
      "name": "python"
    }
  },
  "cells": [
    {
      "cell_type": "markdown",
      "metadata": {
        "id": "view-in-github",
        "colab_type": "text"
      },
      "source": [
        "<a href=\"https://colab.research.google.com/github/hamusita/memo/blob/main/ml_test.ipynb\" target=\"_parent\"><img src=\"https://colab.research.google.com/assets/colab-badge.svg\" alt=\"Open In Colab\"/></a>"
      ]
    },
    {
      "cell_type": "code",
      "metadata": {
        "id": "UWsic-aFYgzY"
      },
      "source": [
        "import numpy as np\n",
        "import pandas as pd"
      ],
      "execution_count": 3,
      "outputs": []
    },
    {
      "cell_type": "markdown",
      "metadata": {
        "id": "Uoc5QckuiyBz"
      },
      "source": [
        "PCA"
      ]
    },
    {
      "cell_type": "code",
      "metadata": {
        "id": "QvURIxN6YqhS"
      },
      "source": [
        "x = np.array([[2,0],[-2,-2],[0,2]])"
      ],
      "execution_count": 10,
      "outputs": []
    },
    {
      "cell_type": "code",
      "metadata": {
        "colab": {
          "base_uri": "https://localhost:8080/"
        },
        "id": "QmeoATD-ZG52",
        "outputId": "603bd656-43d0-4e08-f660-718616e3c0ba"
      },
      "source": [
        "x"
      ],
      "execution_count": 11,
      "outputs": [
        {
          "output_type": "execute_result",
          "data": {
            "text/plain": [
              "array([[ 2,  0],\n",
              "       [-2, -2],\n",
              "       [ 0,  2]])"
            ]
          },
          "metadata": {
            "tags": []
          },
          "execution_count": 11
        }
      ]
    },
    {
      "cell_type": "code",
      "metadata": {
        "colab": {
          "base_uri": "https://localhost:8080/"
        },
        "id": "g8UM89uwZHd8",
        "outputId": "c512685c-2437-41bc-b7fe-250867792010"
      },
      "source": [
        "np.mean(x, axis=0)"
      ],
      "execution_count": 12,
      "outputs": [
        {
          "output_type": "execute_result",
          "data": {
            "text/plain": [
              "array([0., 0.])"
            ]
          },
          "metadata": {
            "tags": []
          },
          "execution_count": 12
        }
      ]
    },
    {
      "cell_type": "code",
      "metadata": {
        "colab": {
          "base_uri": "https://localhost:8080/"
        },
        "id": "HkeSWNuGZLXb",
        "outputId": "9c625950-3375-4e47-a27e-681579552c4c"
      },
      "source": [
        "cm = np.cov(x, rowvar=0, bias=0)\n",
        "cm"
      ],
      "execution_count": 13,
      "outputs": [
        {
          "output_type": "execute_result",
          "data": {
            "text/plain": [
              "array([[4., 2.],\n",
              "       [2., 4.]])"
            ]
          },
          "metadata": {
            "tags": []
          },
          "execution_count": 13
        }
      ]
    },
    {
      "cell_type": "code",
      "metadata": {
        "colab": {
          "base_uri": "https://localhost:8080/"
        },
        "id": "l6GBETLSZ-ob",
        "outputId": "e2d56d29-69b3-4ebf-f256-4cda1a4e5cf8"
      },
      "source": [
        "np.linalg.eig(cm)"
      ],
      "execution_count": 14,
      "outputs": [
        {
          "output_type": "execute_result",
          "data": {
            "text/plain": [
              "(array([6., 2.]), array([[ 0.70710678, -0.70710678],\n",
              "        [ 0.70710678,  0.70710678]]))"
            ]
          },
          "metadata": {
            "tags": []
          },
          "execution_count": 14
        }
      ]
    },
    {
      "cell_type": "code",
      "metadata": {
        "colab": {
          "base_uri": "https://localhost:8080/"
        },
        "id": "niWEUMkgde5o",
        "outputId": "605562f6-c16c-45ed-e1d7-2c8d30f3e417"
      },
      "source": [
        "np.sqrt(1/(1+(1.6056/3)**2)) * 1.6056 / 3"
      ],
      "execution_count": 16,
      "outputs": [
        {
          "output_type": "execute_result",
          "data": {
            "text/plain": [
              "0.47186905686161973"
            ]
          },
          "metadata": {
            "tags": []
          },
          "execution_count": 16
        }
      ]
    },
    {
      "cell_type": "code",
      "metadata": {
        "id": "cDXqT-fahoPa"
      },
      "source": [
        "R1 = 8.60555128 / (8.60555128 + 1.39444872)"
      ],
      "execution_count": 17,
      "outputs": []
    },
    {
      "cell_type": "code",
      "metadata": {
        "colab": {
          "base_uri": "https://localhost:8080/"
        },
        "id": "TbysxWQQivDh",
        "outputId": "739b8d8d-ed62-4690-d7e5-731338f4f22a"
      },
      "source": [
        "R1"
      ],
      "execution_count": 18,
      "outputs": [
        {
          "output_type": "execute_result",
          "data": {
            "text/plain": [
              "0.860555128"
            ]
          },
          "metadata": {
            "tags": []
          },
          "execution_count": 18
        }
      ]
    },
    {
      "cell_type": "markdown",
      "metadata": {
        "id": "vKxKAh7Oi6X1"
      },
      "source": [
        "k-means"
      ]
    },
    {
      "cell_type": "code",
      "metadata": {
        "id": "JFiqZKO-iv7i"
      },
      "source": [
        "x = np.array([-4,3,0,-2,7,10])\n",
        "c1 = 1\n",
        "c2 = 2"
      ],
      "execution_count": 15,
      "outputs": []
    },
    {
      "cell_type": "code",
      "metadata": {
        "colab": {
          "base_uri": "https://localhost:8080/"
        },
        "id": "_xuTLaLMj7D4",
        "outputId": "a9f0dc75-986e-4cbb-f7de-2d515c870fc3"
      },
      "source": [
        "DA1 = (x- c1)**2\n",
        "DA1"
      ],
      "execution_count": 16,
      "outputs": [
        {
          "output_type": "execute_result",
          "data": {
            "text/plain": [
              "array([25,  4,  1,  9, 36, 81])"
            ]
          },
          "metadata": {
            "tags": []
          },
          "execution_count": 16
        }
      ]
    },
    {
      "cell_type": "code",
      "metadata": {
        "colab": {
          "base_uri": "https://localhost:8080/"
        },
        "id": "s6nG5R2qj-6C",
        "outputId": "8a9f4c21-b4ec-476e-8654-55e0509f74cc"
      },
      "source": [
        "DA2 = (x- c2)**2\n",
        "DA2"
      ],
      "execution_count": 17,
      "outputs": [
        {
          "output_type": "execute_result",
          "data": {
            "text/plain": [
              "array([36,  1,  4, 16, 25, 64])"
            ]
          },
          "metadata": {
            "tags": []
          },
          "execution_count": 17
        }
      ]
    },
    {
      "cell_type": "code",
      "metadata": {
        "colab": {
          "base_uri": "https://localhost:8080/"
        },
        "id": "S9l2rLKzkLqs",
        "outputId": "5fd5a5ca-6fb0-42be-a5f2-05902588651b"
      },
      "source": [
        "np.minimum(DA1,DA2)"
      ],
      "execution_count": 26,
      "outputs": [
        {
          "output_type": "execute_result",
          "data": {
            "text/plain": [
              "array([25,  1,  1,  9, 25, 64])"
            ]
          },
          "metadata": {
            "tags": []
          },
          "execution_count": 26
        }
      ]
    },
    {
      "cell_type": "code",
      "metadata": {
        "colab": {
          "base_uri": "https://localhost:8080/"
        },
        "id": "KkdH_ww2kbeE",
        "outputId": "bea63285-e169-44aa-d44f-5b74c5df19fc"
      },
      "source": [
        "loss = np.sum(np.minimum(DA1,DA2))\n",
        "loss"
      ],
      "execution_count": 27,
      "outputs": [
        {
          "output_type": "execute_result",
          "data": {
            "text/plain": [
              "125"
            ]
          },
          "metadata": {
            "tags": []
          },
          "execution_count": 27
        }
      ]
    },
    {
      "cell_type": "code",
      "metadata": {
        "colab": {
          "base_uri": "https://localhost:8080/"
        },
        "id": "GyOo0g5kkuJR",
        "outputId": "3b2880f6-3ba6-45d1-8097-96e23cbc9ea1"
      },
      "source": [
        "c1n = np.mean([-4,0,-2])\n",
        "c1n"
      ],
      "execution_count": 20,
      "outputs": [
        {
          "output_type": "execute_result",
          "data": {
            "text/plain": [
              "-2.0"
            ]
          },
          "metadata": {
            "tags": []
          },
          "execution_count": 20
        }
      ]
    },
    {
      "cell_type": "code",
      "metadata": {
        "colab": {
          "base_uri": "https://localhost:8080/"
        },
        "id": "tkKYMrirtT0_",
        "outputId": "90df3f4c-d5e9-48ec-bb08-3535f712aab3"
      },
      "source": [
        "c2n = np.mean([3,7,10])\n",
        "c2n"
      ],
      "execution_count": 21,
      "outputs": [
        {
          "output_type": "execute_result",
          "data": {
            "text/plain": [
              "6.666666666666667"
            ]
          },
          "metadata": {
            "tags": []
          },
          "execution_count": 21
        }
      ]
    },
    {
      "cell_type": "code",
      "metadata": {
        "colab": {
          "base_uri": "https://localhost:8080/"
        },
        "id": "U21e8vPItaeq",
        "outputId": "138d9e35-c022-4549-c1d8-a9dfa326f351"
      },
      "source": [
        "nDA1 = (x- c1n)**2\n",
        "nDA1"
      ],
      "execution_count": 24,
      "outputs": [
        {
          "output_type": "execute_result",
          "data": {
            "text/plain": [
              "array([  4.,  25.,   4.,   0.,  81., 144.])"
            ]
          },
          "metadata": {
            "tags": []
          },
          "execution_count": 24
        }
      ]
    },
    {
      "cell_type": "code",
      "metadata": {
        "colab": {
          "base_uri": "https://localhost:8080/"
        },
        "id": "Y1bB6hurtx1a",
        "outputId": "bb494a7a-09f7-45b2-96cd-bdcafd80cc39"
      },
      "source": [
        "nDA2 = (x- c2n)**2\n",
        "nDA2"
      ],
      "execution_count": 22,
      "outputs": [
        {
          "output_type": "execute_result",
          "data": {
            "text/plain": [
              "array([1.13777778e+02, 1.34444444e+01, 4.44444444e+01, 7.51111111e+01,\n",
              "       1.11111111e-01, 1.11111111e+01])"
            ]
          },
          "metadata": {
            "tags": []
          },
          "execution_count": 22
        }
      ]
    },
    {
      "cell_type": "code",
      "metadata": {
        "colab": {
          "base_uri": "https://localhost:8080/"
        },
        "id": "XizZyfw5t1ri",
        "outputId": "5c8a41f9-3df8-4fbf-f468-3eea93cf341c"
      },
      "source": [
        "loss = np.sum(np.minimum(nDA1,nDA2))\n",
        "loss"
      ],
      "execution_count": 25,
      "outputs": [
        {
          "output_type": "execute_result",
          "data": {
            "text/plain": [
              "32.666666666666664"
            ]
          },
          "metadata": {
            "tags": []
          },
          "execution_count": 25
        }
      ]
    },
    {
      "cell_type": "markdown",
      "metadata": {
        "id": "lGdMnslRt973"
      },
      "source": [
        "EM algorithm"
      ]
    },
    {
      "cell_type": "code",
      "metadata": {
        "id": "gUkFmkMUt7J4"
      },
      "source": [
        "def gauss(x, mu=0, sigma=1):\n",
        "    return 1 / (np.sqrt(2*np.pi) * sigma) * np.exp(-(x - mu)**2 / (2*sigma**2))"
      ],
      "execution_count": 6,
      "outputs": []
    },
    {
      "cell_type": "code",
      "metadata": {
        "colab": {
          "base_uri": "https://localhost:8080/"
        },
        "id": "R4o1yr2SXIsP",
        "outputId": "604f99e6-e8ff-4c64-bd77-ef76d6386b84"
      },
      "source": [
        "gauss(6, mu=2, sigma=1)"
      ],
      "execution_count": 9,
      "outputs": [
        {
          "output_type": "execute_result",
          "data": {
            "text/plain": [
              "0.00013383022576488537"
            ]
          },
          "metadata": {
            "tags": []
          },
          "execution_count": 9
        }
      ]
    },
    {
      "cell_type": "code",
      "metadata": {
        "id": "5drfoH8iXa01"
      },
      "source": [
        "x = np.array([[80, 90, 70,100, 80],\n",
        "              [40, 50, 60, 40, 30],\n",
        "              [50, 60, 80, 30,20]])"
      ],
      "execution_count": 28,
      "outputs": []
    },
    {
      "cell_type": "code",
      "metadata": {
        "id": "RRlG_i3qs7Ix"
      },
      "source": [
        "y = np.array([[0.1, 0.8, 0.1],\n",
        "              [0.8, 0.3, 0.8],\n",
        "              [0.1, 0.8, 0.1]])"
      ],
      "execution_count": 29,
      "outputs": []
    },
    {
      "cell_type": "code",
      "metadata": {
        "colab": {
          "base_uri": "https://localhost:8080/"
        },
        "id": "7mTngrpZtM6b",
        "outputId": "80907455-ece3-454c-928b-f2032bc7d0c2"
      },
      "source": [
        "from scipy import signal\n",
        "signal.convolve2d(x, y, 'valid')"
      ],
      "execution_count": 33,
      "outputs": [
        {
          "output_type": "execute_result",
          "data": {
            "text/plain": [
              "array([[243., 238., 213.]])"
            ]
          },
          "metadata": {
            "tags": []
          },
          "execution_count": 33
        }
      ]
    },
    {
      "cell_type": "code",
      "metadata": {
        "colab": {
          "base_uri": "https://localhost:8080/"
        },
        "id": "rOzgbUBatiX6",
        "outputId": "8a6c6754-72d9-45e4-99a6-90d1269b7154"
      },
      "source": [
        "import skimage.measure\n",
        "\n",
        "a = np.array([\n",
        "      [ 0,  0,   0],\n",
        "      [ 0,  99,  59],\n",
        "      [ 0,  55,  65]\n",
        "])\n",
        "skimage.measure.block_reduce(a, (2,2), np.max)"
      ],
      "execution_count": 34,
      "outputs": [
        {
          "output_type": "execute_result",
          "data": {
            "text/plain": [
              "array([[99, 59],\n",
              "       [55, 65]])"
            ]
          },
          "metadata": {
            "tags": []
          },
          "execution_count": 34
        }
      ]
    },
    {
      "cell_type": "code",
      "metadata": {
        "colab": {
          "base_uri": "https://localhost:8080/"
        },
        "id": "Ddy7EgTCvl5J",
        "outputId": "a5e33152-b22b-43da-b6f2-c6eb61bcbfec"
      },
      "source": [
        "b = np.array([\n",
        "      [ 0,  0,   0],\n",
        "      [ 75,  70,  73],\n",
        "      [ 29,  26,  48]\n",
        "])\n",
        "skimage.measure.block_reduce(b, (2,2), np.max)"
      ],
      "execution_count": 35,
      "outputs": [
        {
          "output_type": "execute_result",
          "data": {
            "text/plain": [
              "array([[75, 73],\n",
              "       [29, 48]])"
            ]
          },
          "metadata": {
            "tags": []
          },
          "execution_count": 35
        }
      ]
    },
    {
      "cell_type": "code",
      "metadata": {
        "id": "Q6AwThlOxJEl"
      },
      "source": [
        ""
      ],
      "execution_count": null,
      "outputs": []
    }
  ]
}